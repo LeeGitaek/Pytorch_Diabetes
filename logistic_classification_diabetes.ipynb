{
  "nbformat": 4,
  "nbformat_minor": 0,
  "metadata": {
    "colab": {
      "name": "logistic_classification_diabetes.ipynb",
      "provenance": [],
      "collapsed_sections": []
    },
    "kernelspec": {
      "name": "python3",
      "display_name": "Python 3"
    },
    "accelerator": "GPU"
  },
  "cells": [
    {
      "cell_type": "code",
      "metadata": {
        "id": "LQuodj-9aQcY",
        "colab_type": "code",
        "outputId": "82e38489-52a3-4960-dfe7-901ca4cccdd9",
        "colab": {
          "base_uri": "https://localhost:8080/",
          "height": 547
        }
      },
      "source": [
        "!pip uninstall -y kaggle\n",
        "!pip install --upgrade pip\n",
        "!pip install kaggle==1.5.6 "
      ],
      "execution_count": 3,
      "outputs": [
        {
          "output_type": "stream",
          "text": [
            "Uninstalling kaggle-1.5.6:\n",
            "  Successfully uninstalled kaggle-1.5.6\n",
            "Collecting pip\n",
            "\u001b[?25l  Downloading https://files.pythonhosted.org/packages/54/2e/df11ea7e23e7e761d484ed3740285a34e38548cf2bad2bed3dd5768ec8b9/pip-20.1-py2.py3-none-any.whl (1.5MB)\n",
            "\u001b[K     |████████████████████████████████| 1.5MB 4.9MB/s \n",
            "\u001b[?25hInstalling collected packages: pip\n",
            "  Found existing installation: pip 19.3.1\n",
            "    Uninstalling pip-19.3.1:\n",
            "      Successfully uninstalled pip-19.3.1\n",
            "Successfully installed pip-20.1\n",
            "Collecting kaggle==1.5.6\n",
            "  Downloading kaggle-1.5.6.tar.gz (58 kB)\n",
            "\u001b[K     |████████████████████████████████| 58 kB 2.8 MB/s \n",
            "\u001b[?25hRequirement already satisfied: urllib3<1.25,>=1.21.1 in /usr/local/lib/python3.6/dist-packages (from kaggle==1.5.6) (1.24.3)\n",
            "Requirement already satisfied: six>=1.10 in /usr/local/lib/python3.6/dist-packages (from kaggle==1.5.6) (1.12.0)\n",
            "Requirement already satisfied: certifi in /usr/local/lib/python3.6/dist-packages (from kaggle==1.5.6) (2020.4.5.1)\n",
            "Requirement already satisfied: python-dateutil in /usr/local/lib/python3.6/dist-packages (from kaggle==1.5.6) (2.8.1)\n",
            "Requirement already satisfied: requests in /usr/local/lib/python3.6/dist-packages (from kaggle==1.5.6) (2.23.0)\n",
            "Requirement already satisfied: tqdm in /usr/local/lib/python3.6/dist-packages (from kaggle==1.5.6) (4.38.0)\n",
            "Requirement already satisfied: python-slugify in /usr/local/lib/python3.6/dist-packages (from kaggle==1.5.6) (4.0.0)\n",
            "Requirement already satisfied: idna<3,>=2.5 in /usr/local/lib/python3.6/dist-packages (from requests->kaggle==1.5.6) (2.9)\n",
            "Requirement already satisfied: chardet<4,>=3.0.2 in /usr/local/lib/python3.6/dist-packages (from requests->kaggle==1.5.6) (3.0.4)\n",
            "Requirement already satisfied: text-unidecode>=1.3 in /usr/local/lib/python3.6/dist-packages (from python-slugify->kaggle==1.5.6) (1.3)\n",
            "Building wheels for collected packages: kaggle\n",
            "  Building wheel for kaggle (setup.py) ... \u001b[?25l\u001b[?25hdone\n",
            "  Created wheel for kaggle: filename=kaggle-1.5.6-py3-none-any.whl size=72859 sha256=2d023bc4ebbcd3869d2e28fd647dad2c8de9ca7a303ef689d47fa2506004dea3\n",
            "  Stored in directory: /root/.cache/pip/wheels/01/3e/ff/77407ebac3ef71a79b9166a8382aecf88415a0bcbe3c095a01\n",
            "Successfully built kaggle\n",
            "Installing collected packages: kaggle\n",
            "Successfully installed kaggle-1.5.6\n"
          ],
          "name": "stdout"
        }
      ]
    },
    {
      "cell_type": "code",
      "metadata": {
        "id": "AOq57dEWaqaG",
        "colab_type": "code",
        "outputId": "fd34b8e4-336b-4da5-8ad4-6c878dedb8c1",
        "colab": {
          "base_uri": "https://localhost:8080/",
          "height": 34
        }
      },
      "source": [
        "!mkdir -p ~/.kaggle\n",
        "!cp kaggle.json ~/.kaggle/\n",
        "!chmod 600 ~/.kaggle/kaggle.json\n",
        "!kaggle -v"
      ],
      "execution_count": 4,
      "outputs": [
        {
          "output_type": "stream",
          "text": [
            "Kaggle API 1.5.6\n"
          ],
          "name": "stdout"
        }
      ]
    },
    {
      "cell_type": "code",
      "metadata": {
        "id": "qXSUwzAXa9ZD",
        "colab_type": "code",
        "outputId": "2bcb2e64-27f1-4f54-a0e2-60b2c31f2008",
        "colab": {
          "base_uri": "https://localhost:8080/",
          "height": 68
        }
      },
      "source": [
        "!kaggle competitions download -c logistic-classification-diabetes"
      ],
      "execution_count": 5,
      "outputs": [
        {
          "output_type": "stream",
          "text": [
            "Downloading logistic-classification-diabetes.zip to /content\n",
            "\r  0% 0.00/16.3k [00:00<?, ?B/s]\n",
            "\r100% 16.3k/16.3k [00:00<00:00, 16.6MB/s]\n"
          ],
          "name": "stdout"
        }
      ]
    },
    {
      "cell_type": "code",
      "metadata": {
        "id": "ioOqCiL1a_WJ",
        "colab_type": "code",
        "outputId": "43e22b32-047f-4443-82ee-4973d6ffb5d8",
        "colab": {
          "base_uri": "https://localhost:8080/",
          "height": 85
        }
      },
      "source": [
        "!unzip logistic-classification-diabetes"
      ],
      "execution_count": 6,
      "outputs": [
        {
          "output_type": "stream",
          "text": [
            "Archive:  logistic-classification-diabetes.zip\n",
            "  inflating: submission_form.csv     \n",
            "  inflating: test_data.csv           \n",
            "  inflating: train.csv               \n"
          ],
          "name": "stdout"
        }
      ]
    },
    {
      "cell_type": "code",
      "metadata": {
        "id": "xCNjEEbqbEeC",
        "colab_type": "code",
        "outputId": "e9a32d73-7cb6-4ccb-eeaf-4a9d0c308afa",
        "colab": {
          "base_uri": "https://localhost:8080/",
          "height": 527
        }
      },
      "source": [
        "import torch\n",
        "import torch.optim as optim \n",
        "import torch.nn.functional as F \n",
        "# 소프트맥스 함수를 사용하기 위함. \n",
        "import numpy as np \n",
        "# numpy \n",
        "import pandas as pd\n",
        "# pandas\n",
        "\n",
        "torch.manual_seed(1)\n",
        "\n",
        "data_diabetes = pd.read_csv('train.csv')\n",
        "data_diabetes.head()\n",
        "\n",
        "x_data = data_diabetes.iloc[:,1:9]\n",
        "#x_data.head()\n",
        "\n",
        "y_data = data_diabetes.iloc[:,[-1]]\n",
        "#y_data.head()\n",
        "\n",
        "print(x_data)\n",
        "print(y_data)\n",
        "\n",
        "x_train = torch.FloatTensor(x_data.values)\n",
        "y_train = torch.FloatTensor(y_data.values)\n",
        "\n",
        "print(x_train.shape)\n",
        "print(y_train.shape)"
      ],
      "execution_count": 7,
      "outputs": [
        {
          "output_type": "stream",
          "text": [
            "            0         1         2  ...         5         6         7\n",
            "0   -0.294118  0.487437  0.180328  ...  0.001490 -0.531170 -0.033333\n",
            "1   -0.882353 -0.145729  0.081967  ... -0.207153 -0.766866 -0.666667\n",
            "2   -0.058824  0.839196  0.049180  ... -0.305514 -0.492741 -0.633333\n",
            "3   -0.882353 -0.105528  0.081967  ... -0.162444 -0.923997  0.000000\n",
            "4    0.000000  0.376884 -0.344262  ...  0.284650  0.887276 -0.600000\n",
            "..        ...       ...       ...  ...       ...       ...       ...\n",
            "704  0.000000  0.346734 -0.049180  ... -0.213115 -0.766012  0.000000\n",
            "705 -0.647059  0.025126  0.213115  ... -0.120715 -0.963279 -0.633333\n",
            "706 -0.176471  0.879397 -0.180328  ...  0.010432 -0.361230 -0.566667\n",
            "707 -0.647059  0.738693  0.278689  ...  0.007452 -0.238258 -0.666667\n",
            "708  0.176471 -0.055276  0.180328  ... -0.311475 -0.558497  0.166667\n",
            "\n",
            "[709 rows x 8 columns]\n",
            "       8\n",
            "0    0.0\n",
            "1    1.0\n",
            "2    0.0\n",
            "3    1.0\n",
            "4    0.0\n",
            "..   ...\n",
            "704  1.0\n",
            "705  1.0\n",
            "706  0.0\n",
            "707  0.0\n",
            "708  1.0\n",
            "\n",
            "[709 rows x 1 columns]\n",
            "torch.Size([709, 8])\n",
            "torch.Size([709, 1])\n"
          ],
          "name": "stdout"
        }
      ]
    },
    {
      "cell_type": "code",
      "metadata": {
        "id": "FkO340A7bdhm",
        "colab_type": "code",
        "colab": {
          "base_uri": "https://localhost:8080/",
          "height": 119
        },
        "outputId": "c9ac239a-bdda-41a4-d0f6-24fb623017ca"
      },
      "source": [
        "w = torch.zeros((8, 1),requires_grad=True)\n",
        "b = torch.zeros(1,requires_grad=True)\n",
        "\n",
        "optimizer = optim.SGD([w,b], lr = 1e-3)\n",
        "\n",
        "nb_epochs = 50000\n",
        "\n",
        "for epoch in range(nb_epochs+1):\n",
        "\n",
        "    hypothesis = torch.sigmoid(x_train.matmul(w)+ b) \n",
        "\n",
        "    cost = -(y_train * torch.log(hypothesis) + (1-y_train) * torch.log(1-hypothesis)).mean()\n",
        "\n",
        "    optimizer.zero_grad()\n",
        "    cost.backward()\n",
        "    optimizer.step()\n",
        "\n",
        "    if epoch % 10000 == 0:\n",
        "        prediction = hypothesis >= torch.FloatTensor([0.5])\n",
        "        correct_prediction = prediction.float() == y_train\n",
        "        accuracy = correct_prediction.sum().item() / len(correct_prediction)\n",
        "        print('epoch {:4d}/{} cost : {:.6f} accuracy of {:2.2f}%'.format(\n",
        "            epoch, nb_epochs,cost.item(),accuracy * 100\n",
        "        ))"
      ],
      "execution_count": 96,
      "outputs": [
        {
          "output_type": "stream",
          "text": [
            "epoch    0/50000 cost : 0.693147 accuracy of 65.59%\n",
            "epoch 10000/50000 cost : 0.572608 accuracy of 67.00%\n",
            "epoch 20000/50000 cost : 0.539725 accuracy of 72.07%\n",
            "epoch 30000/50000 cost : 0.520002 accuracy of 76.30%\n",
            "epoch 40000/50000 cost : 0.507350 accuracy of 76.87%\n",
            "epoch 50000/50000 cost : 0.498798 accuracy of 77.15%\n"
          ],
          "name": "stdout"
        }
      ]
    },
    {
      "cell_type": "code",
      "metadata": {
        "id": "_B5VdjoGcixN",
        "colab_type": "code",
        "outputId": "daef01dd-081c-4db0-9437-6af2ecbab27b",
        "colab": {
          "base_uri": "https://localhost:8080/",
          "height": 34
        }
      },
      "source": [
        "hypothesis = torch.sigmoid(x_train.matmul(w) + b) # or .mm or @\n",
        "#print(hypothesis)\n",
        "\n",
        "prediction = hypothesis >= torch.FloatTensor([0.5])\n",
        "#print(prediction)\n",
        "#print(y_train)\n",
        "\n",
        "# 정확도 계산 \n",
        "correct_prediction = prediction.float() == y_train\n",
        "#print(correct_prediction)\n",
        "\n",
        "accuracy = correct_prediction.sum().item() / len(correct_prediction)\n",
        "print('The model has an accuracy of {:2.2f}% for the training set.'.format(accuracy * 100))\n"
      ],
      "execution_count": 97,
      "outputs": [
        {
          "output_type": "stream",
          "text": [
            "The model has an accuracy of 77.15% for the training set.\n"
          ],
          "name": "stdout"
        }
      ]
    },
    {
      "cell_type": "code",
      "metadata": {
        "id": "sj1L_ZpmeIOe",
        "colab_type": "code",
        "outputId": "363747eb-67cb-4433-e91e-887258b7e094",
        "colab": {
          "base_uri": "https://localhost:8080/",
          "height": 867
        }
      },
      "source": [
        "test = pd.read_csv('test_data.csv',header=None,skiprows=[0, 0])\n",
        "x_data = test.loc[:,1:8]\n",
        "#print(x_data)\n",
        "x_data = np.array(x_data)\n",
        "x_test = torch.FloatTensor(x_data)\n",
        "\n",
        "hypothesis = torch.sigmoid(x_test.matmul(w)+b)\n",
        "prediction = (hypothesis >= torch.FloatTensor([0.5])).int()\n",
        "#if prediction == True: print(0)\n",
        "print(prediction)\n"
      ],
      "execution_count": 98,
      "outputs": [
        {
          "output_type": "stream",
          "text": [
            "tensor([[1],\n",
            "        [1],\n",
            "        [1],\n",
            "        [1],\n",
            "        [1],\n",
            "        [1],\n",
            "        [1],\n",
            "        [1],\n",
            "        [1],\n",
            "        [1],\n",
            "        [1],\n",
            "        [1],\n",
            "        [1],\n",
            "        [1],\n",
            "        [0],\n",
            "        [1],\n",
            "        [1],\n",
            "        [1],\n",
            "        [1],\n",
            "        [1],\n",
            "        [1],\n",
            "        [1],\n",
            "        [0],\n",
            "        [1],\n",
            "        [1],\n",
            "        [0],\n",
            "        [0],\n",
            "        [1],\n",
            "        [0],\n",
            "        [1],\n",
            "        [0],\n",
            "        [0],\n",
            "        [1],\n",
            "        [1],\n",
            "        [1],\n",
            "        [0],\n",
            "        [0],\n",
            "        [1],\n",
            "        [1],\n",
            "        [1],\n",
            "        [1],\n",
            "        [0],\n",
            "        [1],\n",
            "        [0],\n",
            "        [1],\n",
            "        [1],\n",
            "        [1],\n",
            "        [1],\n",
            "        [1],\n",
            "        [1]], dtype=torch.int32)\n"
          ],
          "name": "stdout"
        }
      ]
    },
    {
      "cell_type": "code",
      "metadata": {
        "id": "SpD274AueWFd",
        "colab_type": "code",
        "outputId": "2ea7aab3-0b94-4935-b597-d84e411131dc",
        "colab": {
          "base_uri": "https://localhost:8080/",
          "height": 34
        }
      },
      "source": [
        "len(prediction)"
      ],
      "execution_count": 13,
      "outputs": [
        {
          "output_type": "execute_result",
          "data": {
            "text/plain": [
              "50"
            ]
          },
          "metadata": {
            "tags": []
          },
          "execution_count": 13
        }
      ]
    },
    {
      "cell_type": "code",
      "metadata": {
        "id": "yRoOVT9FjfKr",
        "colab_type": "code",
        "colab": {}
      },
      "source": [
        "prediction = prediction.detach().numpy().reshape(-1,1)\n",
        "\n",
        "id = np.array([i for i in range(len(prediction))]).reshape(-1,1)\n",
        "result = np.hstack([id,prediction])\n",
        "df = pd.DataFrame(result,columns=[\"ID\",\"Label\"])\n",
        "df.to_csv(\"submission_form.csv\",index=False,header=True)\n"
      ],
      "execution_count": 0,
      "outputs": []
    },
    {
      "cell_type": "code",
      "metadata": {
        "id": "gc-pox_WkSkf",
        "colab_type": "code",
        "outputId": "5b1dcc4f-72b6-4eba-f500-3af479030966",
        "colab": {
          "base_uri": "https://localhost:8080/",
          "height": 867
        }
      },
      "source": [
        "result"
      ],
      "execution_count": 100,
      "outputs": [
        {
          "output_type": "execute_result",
          "data": {
            "text/plain": [
              "array([[ 0,  1],\n",
              "       [ 1,  1],\n",
              "       [ 2,  1],\n",
              "       [ 3,  1],\n",
              "       [ 4,  1],\n",
              "       [ 5,  1],\n",
              "       [ 6,  1],\n",
              "       [ 7,  1],\n",
              "       [ 8,  1],\n",
              "       [ 9,  1],\n",
              "       [10,  1],\n",
              "       [11,  1],\n",
              "       [12,  1],\n",
              "       [13,  1],\n",
              "       [14,  0],\n",
              "       [15,  1],\n",
              "       [16,  1],\n",
              "       [17,  1],\n",
              "       [18,  1],\n",
              "       [19,  1],\n",
              "       [20,  1],\n",
              "       [21,  1],\n",
              "       [22,  0],\n",
              "       [23,  1],\n",
              "       [24,  1],\n",
              "       [25,  0],\n",
              "       [26,  0],\n",
              "       [27,  1],\n",
              "       [28,  0],\n",
              "       [29,  1],\n",
              "       [30,  0],\n",
              "       [31,  0],\n",
              "       [32,  1],\n",
              "       [33,  1],\n",
              "       [34,  1],\n",
              "       [35,  0],\n",
              "       [36,  0],\n",
              "       [37,  1],\n",
              "       [38,  1],\n",
              "       [39,  1],\n",
              "       [40,  1],\n",
              "       [41,  0],\n",
              "       [42,  1],\n",
              "       [43,  0],\n",
              "       [44,  1],\n",
              "       [45,  1],\n",
              "       [46,  1],\n",
              "       [47,  1],\n",
              "       [48,  1],\n",
              "       [49,  1]])"
            ]
          },
          "metadata": {
            "tags": []
          },
          "execution_count": 100
        }
      ]
    },
    {
      "cell_type": "code",
      "metadata": {
        "id": "4Axj1Jj_lMT8",
        "colab_type": "code",
        "outputId": "761ff422-2c2a-424b-ac83-ac52f136dc4c",
        "colab": {
          "base_uri": "https://localhost:8080/",
          "height": 51
        }
      },
      "source": [
        "!kaggle competitions submit -c logistic-classification-diabetes -f submission_form.csv -m \"14010974_이기택\""
      ],
      "execution_count": 101,
      "outputs": [
        {
          "output_type": "stream",
          "text": [
            "100% 249/249 [00:02<00:00, 102B/s]\n",
            "Successfully submitted to logistic classification : diabetes"
          ],
          "name": "stdout"
        }
      ]
    }
  ]
}